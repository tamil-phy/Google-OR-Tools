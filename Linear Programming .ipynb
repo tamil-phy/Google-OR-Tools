{
 "cells": [
  {
   "cell_type": "markdown",
   "metadata": {},
   "source": [
    "# Maximize 3x +y subject to the following constraints:\n",
    "# x + y\t≤ 2\n",
    "# 0\t≤ x ≤ 1\n",
    "# 0\t≤ y ≤ 2"
   ]
  },
  {
   "cell_type": "markdown",
   "metadata": {},
   "source": [
    "# Import the linear solver"
   ]
  },
  {
   "cell_type": "code",
   "execution_count": 20,
   "metadata": {},
   "outputs": [],
   "source": [
    "from __future__ import print_function\n",
    "from ortools.linear_solver import pywraplp"
   ]
  },
  {
   "cell_type": "markdown",
   "metadata": {},
   "source": [
    " # Create the linear solver with the GLOP backend"
   ]
  },
  {
   "cell_type": "code",
   "execution_count": 21,
   "metadata": {},
   "outputs": [
    {
     "name": "stdout",
     "output_type": "stream",
     "text": [
      "Number of variables = 2\n",
      "Number of constraints = 1\n",
      "Solution:\n",
      "Objective value = 4.0\n",
      "x = 1.0\n",
      "y = 1.0\n"
     ]
    }
   ],
   "source": [
    "def main():\n",
    "    solver = pywraplp.Solver('simple_lp_program',\n",
    "                             pywraplp.Solver.GLOP_LINEAR_PROGRAMMING)\n",
    "     # Create the variables x and y.\n",
    "    x = solver.NumVar(0, 1, 'x')\n",
    "    y = solver.NumVar(0, 2, 'y')\n",
    "\n",
    "    print('Number of variables =', solver.NumVariables())\n",
    "\n",
    "    # Create a linear constraint, 0 <= x + y <= 2.\n",
    "    ct = solver.Constraint(0, 2, 'ct')\n",
    "    ct.SetCoefficient(x, 1)\n",
    "    ct.SetCoefficient(y, 1)\n",
    "\n",
    "    print('Number of constraints =', solver.NumConstraints())\n",
    "\n",
    "    # Create the objective function, 3 * x + y.\n",
    "    objective = solver.Objective()\n",
    "    objective.SetCoefficient(x, 3)\n",
    "    objective.SetCoefficient(y, 1)\n",
    "    objective.SetMaximization()\n",
    "\n",
    "    solver.Solve()\n",
    "\n",
    "    print('Solution:')\n",
    "    print('Objective value =', objective.Value())\n",
    "    print('x =', x.solution_value())\n",
    "    print('y =', y.solution_value())\n",
    "\n",
    "\n",
    "if __name__ == '__main__':\n",
    "    main()"
   ]
  }
 ],
 "metadata": {
  "kernelspec": {
   "display_name": "Python 3",
   "language": "python",
   "name": "python3"
  },
  "language_info": {
   "codemirror_mode": {
    "name": "ipython",
    "version": 3
   },
   "file_extension": ".py",
   "mimetype": "text/x-python",
   "name": "python",
   "nbconvert_exporter": "python",
   "pygments_lexer": "ipython3",
   "version": "3.7.6"
  }
 },
 "nbformat": 4,
 "nbformat_minor": 2
}
